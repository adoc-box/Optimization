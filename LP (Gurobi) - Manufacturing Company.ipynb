{
 "cells": [
  {
   "cell_type": "markdown",
   "metadata": {},
   "source": [
    "**Created on**: 2022.03.04\n",
    "\n",
    "**Implemented by**: Anthony Cho\n",
    "\n",
    "**Subject**: Linear programming: Manufacturing Company\n",
    "\n",
    "**Reference**: Introduction to operation research (10th Edition) - Hillier and Lieberman.\n",
    "**Problem**: 3.1-11"
   ]
  },
  {
   "cell_type": "markdown",
   "metadata": {},
   "source": [
    "## Problem: "
   ]
  },
  {
   "cell_type": "markdown",
   "metadata": {},
   "source": [
    "The Omega Manufacturing Company has discontinued the production of a certain unprofitable product line. This act created considerable excess production capacity. Management is considering devoting this excess capacity to one or more of three products; call them products 1, 2, and 3. The available capacity on the machines that might limit output is summarized in the following table:\n",
    "\n",
    "| **Machine Type** | **Available Time (Machine Hours per Week)**      |\n",
    "|------------------|--------------------------------------------------|\n",
    "| Milling machine  | 500                                              |\n",
    "| Lathe            | 350                                              |\n",
    "| Grinder          | 150                                              |\n",
    "\n",
    "\n",
    "The number of machine hours required for each unit of the respective products is\n",
    "\n",
    "| **Machine Type** | **Product 1** | **Product 2** | **Product 3** |\n",
    "|------------------|---------------|---------------|---------------|\n",
    "| Milling machine  | 9             | 3             | 5             |\n",
    "| Lathe            | 5             | 4             | 0             |\n",
    "| Grinder          | 3             | 0             | 2             |\n",
    "\n",
    "\n",
    "The sales department indicates that the sales potential for products 1 and 2 exceeds the maximum production rate and that the sales potential for product 3 is 20 units per week. \n",
    "\n",
    "The unit profit would be:\n",
    "\n",
    "|        | **Product 1** | **Product 2** | **Product 3** |\n",
    "|--------|---------------|---------------|---------------|\n",
    "| Profit | &#36;50       | &#36;20       | &#36;25       |\n",
    "\n",
    "\n",
    "The objective is to determine how much of each product Omega should produce to maximize profit."
   ]
  },
  {
   "cell_type": "markdown",
   "metadata": {},
   "source": [
    "**Parameters**:\n",
    "* $J$: Set of products.\n",
    "* $I$: Set of Machines.\n",
    "* $g_j$: expected profit per unit by product $j$ ($j \\in J$).\n",
    "* $w_{i,j}$: amount of machine-hours per week required for each unit of product $j$ processed by the machine type $i$  ($i \\in I, \\; j \\in J$).\n",
    "* $l_i$: machine-hours per week available in machine type $i$ ($i \\in I$).\n",
    "* $b_k$: maximum number of product k to produce (if exist). \n",
    "\n",
    "**Decision variables**:\n",
    "* $X_j$: Number of units of product $j$ to produce ($j \\in J$).\n",
    "\n",
    "**Constraints**:\n",
    "* **Machine-hours per week limit**: $\\quad \\sum_{j \\in J} w_{i,j} \\cdot X_{j} \\leq l_j, \\quad \\forall i \\in I.$\n",
    "* **Limit for product k**: $X_{k} \\leq b_{k}, \\quad \\forall k \\in K = \\{j \\in J| b_{j} \\; exist\\}$\n",
    "* **Decision variable bound**: $X_{j} \\geq 0, \\quad \\forall j$.\n",
    "\n",
    "**Objective function**:\n",
    "* $\\max_{X} \\sum_{j} g_{j} \\cdot X_{j}$.\n"
   ]
  },
  {
   "cell_type": "markdown",
   "metadata": {},
   "source": [
    "### General model\n",
    "\n",
    "$$\\max_{X} \\sum_{j \\in J} g_{j} \\cdot X_{j}$$\n",
    "\n",
    "s.t.\n",
    "\n",
    "$$\\quad \\sum_{j} w_{i,j} \\cdot X_{j} \\leq l_j, \\quad \\forall i \\in I.$$\n",
    "$$X_{k} \\leq b_{k}, \\quad \\forall k \\in K = \\{j \\in J| b_{j} \\; exist\\}$$\n",
    "$$X_{j} \\geq 0, \\quad \\forall j \\in J$$"
   ]
  },
  {
   "cell_type": "markdown",
   "metadata": {},
   "source": [
    "### Particular model\n",
    "\n",
    "$$\\max_{X} 50 X_{1} + 20 X_{2} + 25 X_{3}$$\n",
    "\n",
    "s.t.\n",
    "\n",
    "|          |           |           |        |      |\n",
    "|----------|-----------|-----------|--------|------|\n",
    "| $9X_{1}$ | $+3X_{2}$ | $+5X_{3}$ | $\\leq$ | 500  |\n",
    "| $5X_{1}$ | $4X_{2}$  |           | $\\leq$ | 350  |\n",
    "| $3X_{1}$ |           | $+2X_{3}$ | $\\leq$ | 150  |\n",
    "|          |           | $ X_{3}$  | $\\leq$ | 20   |\n",
    "\n",
    "\n",
    "$$X_{1}, X_{2}, X_{3} \\geq 0$$"
   ]
  },
  {
   "cell_type": "code",
   "execution_count": 1,
   "metadata": {},
   "outputs": [],
   "source": [
    "## Libraries dependencies\n",
    "\n",
    "import gurobipy as gp"
   ]
  },
  {
   "cell_type": "markdown",
   "metadata": {},
   "source": [
    "### Parameters"
   ]
  },
  {
   "cell_type": "code",
   "execution_count": 2,
   "metadata": {},
   "outputs": [],
   "source": [
    "## Expected profit per unit by product\n",
    "profit = {'Product 1': 50, \n",
    "          'Product 2': 20,\n",
    "          'Product 3': 25}\n",
    "\n",
    "## Machine-hours per week required by product each\n",
    "W = {'Milling machine': {'Product 1': 9, 'Product 2': 3, 'Product 3': 5},\n",
    "     'Lathe': {'Product 1': 5, 'Product 2': 4, 'Product 3': 0},\n",
    "     'Grinder': {'Product 1': 3, 'Product 2': 0, 'Product 3': 2}\n",
    "    }\n",
    "\n",
    "## Maximum units of each product to produce\n",
    "B = {'Product 3': 20}\n",
    "\n",
    "## Machie-hours available per machine type\n",
    "L = {'Milling machine': 500,\n",
    "     'Lathe': 350,\n",
    "     'Grinder': 150\n",
    "    }"
   ]
  },
  {
   "cell_type": "markdown",
   "metadata": {},
   "source": [
    "### LP-Model"
   ]
  },
  {
   "cell_type": "code",
   "execution_count": 3,
   "metadata": {},
   "outputs": [
    {
     "name": "stdout",
     "output_type": "stream",
     "text": [
      "Academic license - for non-commercial use only - expires 2022-11-29\n",
      "Using license file /home/hp/gurobi.lic\n"
     ]
    }
   ],
   "source": [
    "## Model instance\n",
    "model = gp.Model('ManufacturingCompany')\n",
    "model.modelSense = gp.GRB.MAXIMIZE"
   ]
  },
  {
   "cell_type": "code",
   "execution_count": 4,
   "metadata": {},
   "outputs": [],
   "source": [
    "## Decision-variables\n",
    "X = {}\n",
    "for p in profit.keys():\n",
    "    X[p] = model.addVar(obj=profit[p], lb=0, vtype=gp.GRB.CONTINUOUS, name=f'X[{p}]')"
   ]
  },
  {
   "cell_type": "code",
   "execution_count": 5,
   "metadata": {},
   "outputs": [],
   "source": [
    "## Constraints\n",
    "for machine in W.keys():\n",
    "    lexp = gp.LinExpr()\n",
    "    for p in W[machine].keys():\n",
    "        lexp.addTerms(W[machine][p], X[p])\n",
    "    model.addConstr(lexp, gp.GRB.LESS_EQUAL, L[machine], name=f'MaxMachineHours[{machine}]')\n",
    "    \n",
    "for p in B.keys():\n",
    "    model.addConstr(X[p], gp.GRB.LESS_EQUAL, B[p], name=f'MaxProduct[{p}]')"
   ]
  },
  {
   "cell_type": "code",
   "execution_count": 6,
   "metadata": {},
   "outputs": [],
   "source": [
    "## Model update\n",
    "model.update()"
   ]
  },
  {
   "cell_type": "code",
   "execution_count": 7,
   "metadata": {},
   "outputs": [
    {
     "name": "stdout",
     "output_type": "stream",
     "text": [
      "Maximize\n",
      "   <gurobi.LinExpr: 50.0 X[Product 1] + 20.0 X[Product 2] + 25.0 X[Product 3]>\n",
      "Subject To\n",
      "   MaxMachineHours[Milling machine] : <gurobi.LinExpr: 9.0 X[Product 1] + 3.0 X[Product 2] + 5.0 X[Product 3]> <= 500.0\n",
      "   MaxMachineHours[Lathe] : <gurobi.LinExpr: 5.0 X[Product 1] + 4.0 X[Product 2]> <= 350.0\n",
      "   MaxMachineHours[Grinder] : <gurobi.LinExpr: 3.0 X[Product 1] + 2.0 X[Product 3]> <= 150.0\n",
      "   MaxProduct[Product 3] : <gurobi.LinExpr: X[Product 3]> <= 20.0\n"
     ]
    }
   ],
   "source": [
    "## Model display\n",
    "model.display()"
   ]
  },
  {
   "cell_type": "code",
   "execution_count": 8,
   "metadata": {},
   "outputs": [
    {
     "name": "stdout",
     "output_type": "stream",
     "text": [
      "Gurobi Optimizer version 9.1.1 build v9.1.1rc0 (linux64)\n",
      "Thread count: 2 physical cores, 4 logical processors, using up to 4 threads\n",
      "Optimize a model with 4 rows, 3 columns and 8 nonzeros\n",
      "Model fingerprint: 0x5ff64e49\n",
      "Coefficient statistics:\n",
      "  Matrix range     [1e+00, 9e+00]\n",
      "  Objective range  [2e+01, 5e+01]\n",
      "  Bounds range     [0e+00, 0e+00]\n",
      "  RHS range        [2e+01, 5e+02]\n",
      "Presolve removed 1 rows and 0 columns\n",
      "Presolve time: 0.01s\n",
      "Presolved: 3 rows, 3 columns, 7 nonzeros\n",
      "\n",
      "Iteration    Objective       Primal Inf.    Dual Inf.      Time\n",
      "       0    3.3333333e+03   3.956121e+01   0.000000e+00      0s\n",
      "       2    2.9047619e+03   0.000000e+00   0.000000e+00      0s\n",
      "\n",
      "Solved in 2 iterations and 0.01 seconds\n",
      "Optimal objective  2.904761905e+03\n"
     ]
    }
   ],
   "source": [
    "## Optimize model\n",
    "model.optimize()"
   ]
  },
  {
   "cell_type": "markdown",
   "metadata": {},
   "source": [
    "#### Post-Processing: Interpretation"
   ]
  },
  {
   "cell_type": "code",
   "execution_count": 9,
   "metadata": {},
   "outputs": [
    {
     "name": "stdout",
     "output_type": "stream",
     "text": [
      "Produce 26.19 units of Product 1\n",
      "Produce 54.76 units of Product 2\n",
      "Produce 20.00 units of Product 3\n",
      "\n",
      "Total profit $2904.762\n",
      "\n",
      "Slack MaxMachineHours[Milling machine]        :     0.00\n",
      "Slack MaxMachineHours[Lathe]                  :     0.00\n",
      "Slack MaxMachineHours[Grinder]                :    31.43\n",
      "Slack MaxProduct[Product 3]                   :     0.00\n"
     ]
    }
   ],
   "source": [
    "if model.status == gp.GRB.OPTIMAL:\n",
    "    for p in X.keys():\n",
    "        if X[p].x:\n",
    "            print('Produce {:>5.2f} units of {}'.format(X[p].x, p))\n",
    "\n",
    "    print(f'\\nTotal profit ${model.ObjVal:.3f}\\n')\n",
    "    \n",
    "    for c in model.getConstrs():\n",
    "        print('Slack {:40}: {:>8.2f}'.format(c.ConstrName, c.slack))\n",
    "    \n",
    "else:\n",
    "    print('No solution was found.')"
   ]
  },
  {
   "cell_type": "code",
   "execution_count": null,
   "metadata": {},
   "outputs": [],
   "source": []
  },
  {
   "cell_type": "code",
   "execution_count": null,
   "metadata": {},
   "outputs": [],
   "source": []
  }
 ],
 "metadata": {
  "kernelspec": {
   "display_name": "Python 3",
   "language": "python",
   "name": "python3"
  },
  "language_info": {
   "codemirror_mode": {
    "name": "ipython",
    "version": 3
   },
   "file_extension": ".py",
   "mimetype": "text/x-python",
   "name": "python",
   "nbconvert_exporter": "python",
   "pygments_lexer": "ipython3",
   "version": "3.8.10"
  }
 },
 "nbformat": 4,
 "nbformat_minor": 4
}
