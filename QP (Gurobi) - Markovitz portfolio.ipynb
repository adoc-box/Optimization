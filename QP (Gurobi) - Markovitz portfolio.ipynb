{
 "cells": [
  {
   "cell_type": "markdown",
   "metadata": {},
   "source": [
    "**Created on**: 2021.09.04\n",
    "\n",
    "**Implemented by**:Anthony Cho\n",
    "\n",
    "**Subject**: Quadratic programming: Markovitz portfolio"
   ]
  },
  {
   "cell_type": "markdown",
   "metadata": {},
   "source": [
    "### Model: Markovitz portfolio\n",
    "\n",
    "$$\\min \\mathbf{x}'V \\mathbf{x}$$\n",
    "\n",
    "s.t. $$\\sum x_i = 1,$$ $$\\sum \\mu_{i}x_{i} \\geq r, $$ $$\\mathbf{x}\\geq 0.$$\n",
    "\n",
    "where $\\mathbf{\\mu}$ is the mean returns vector of assets vector, $V$ is the covariance matrix of return assets, $\\mathbf{x}$ is the decision variables vector that decide the percentage to invest to each asset."
   ]
  },
  {
   "cell_type": "code",
   "execution_count": 1,
   "metadata": {},
   "outputs": [],
   "source": [
    "## Libraries dependencies\n",
    "import gurobipy as gp\n",
    "\n",
    "from numpy.random import randn, seed\n",
    "from numpy import sqrt, linspace, array\n",
    "from pandas import DataFrame, Series\n",
    "\n",
    "import matplotlib.pyplot as plt\n",
    "%matplotlib inline"
   ]
  },
  {
   "cell_type": "markdown",
   "metadata": {},
   "source": [
    "### Data"
   ]
  },
  {
   "cell_type": "code",
   "execution_count": 2,
   "metadata": {},
   "outputs": [],
   "source": [
    "## random seed\n",
    "seed(123)\n",
    "\n",
    "## Number of assets\n",
    "n_assets = 4\n",
    "\n",
    "## Number of historical record\n",
    "n_samples = 1000\n",
    "\n",
    "## Asset return vector\n",
    "returns = randn(n_samples, n_assets)\n",
    "\n",
    "## Name of assets\n",
    "names = ['A{}'.format(tag) for tag in range(n_assets)]\n",
    "\n",
    "## Convert to a dataframe\n",
    "returns = DataFrame(returns, columns=names)"
   ]
  },
  {
   "cell_type": "code",
   "execution_count": 4,
   "metadata": {},
   "outputs": [
    {
     "data": {
      "text/html": [
       "<div>\n",
       "<style scoped>\n",
       "    .dataframe tbody tr th:only-of-type {\n",
       "        vertical-align: middle;\n",
       "    }\n",
       "\n",
       "    .dataframe tbody tr th {\n",
       "        vertical-align: top;\n",
       "    }\n",
       "\n",
       "    .dataframe thead th {\n",
       "        text-align: right;\n",
       "    }\n",
       "</style>\n",
       "<table border=\"1\" class=\"dataframe\">\n",
       "  <thead>\n",
       "    <tr style=\"text-align: right;\">\n",
       "      <th></th>\n",
       "      <th>A0</th>\n",
       "      <th>A1</th>\n",
       "      <th>A2</th>\n",
       "      <th>A3</th>\n",
       "    </tr>\n",
       "  </thead>\n",
       "  <tbody>\n",
       "    <tr>\n",
       "      <th>0</th>\n",
       "      <td>-1.085631</td>\n",
       "      <td>0.997345</td>\n",
       "      <td>0.282978</td>\n",
       "      <td>-1.506295</td>\n",
       "    </tr>\n",
       "    <tr>\n",
       "      <th>1</th>\n",
       "      <td>-0.578600</td>\n",
       "      <td>1.651437</td>\n",
       "      <td>-2.426679</td>\n",
       "      <td>-0.428913</td>\n",
       "    </tr>\n",
       "    <tr>\n",
       "      <th>2</th>\n",
       "      <td>1.265936</td>\n",
       "      <td>-0.866740</td>\n",
       "      <td>-0.678886</td>\n",
       "      <td>-0.094709</td>\n",
       "    </tr>\n",
       "    <tr>\n",
       "      <th>3</th>\n",
       "      <td>1.491390</td>\n",
       "      <td>-0.638902</td>\n",
       "      <td>-0.443982</td>\n",
       "      <td>-0.434351</td>\n",
       "    </tr>\n",
       "    <tr>\n",
       "      <th>4</th>\n",
       "      <td>2.205930</td>\n",
       "      <td>2.186786</td>\n",
       "      <td>1.004054</td>\n",
       "      <td>0.386186</td>\n",
       "    </tr>\n",
       "    <tr>\n",
       "      <th>...</th>\n",
       "      <td>...</td>\n",
       "      <td>...</td>\n",
       "      <td>...</td>\n",
       "      <td>...</td>\n",
       "    </tr>\n",
       "    <tr>\n",
       "      <th>995</th>\n",
       "      <td>-0.499897</td>\n",
       "      <td>0.587647</td>\n",
       "      <td>-0.926542</td>\n",
       "      <td>1.736982</td>\n",
       "    </tr>\n",
       "    <tr>\n",
       "      <th>996</th>\n",
       "      <td>-0.459550</td>\n",
       "      <td>0.125822</td>\n",
       "      <td>-1.119947</td>\n",
       "      <td>-0.521887</td>\n",
       "    </tr>\n",
       "    <tr>\n",
       "      <th>997</th>\n",
       "      <td>-2.013430</td>\n",
       "      <td>-0.028708</td>\n",
       "      <td>-0.103142</td>\n",
       "      <td>-1.761313</td>\n",
       "    </tr>\n",
       "    <tr>\n",
       "      <th>998</th>\n",
       "      <td>-0.185167</td>\n",
       "      <td>0.504077</td>\n",
       "      <td>1.354567</td>\n",
       "      <td>-0.907952</td>\n",
       "    </tr>\n",
       "    <tr>\n",
       "      <th>999</th>\n",
       "      <td>-1.818045</td>\n",
       "      <td>-0.122733</td>\n",
       "      <td>1.794486</td>\n",
       "      <td>-0.320510</td>\n",
       "    </tr>\n",
       "  </tbody>\n",
       "</table>\n",
       "<p>1000 rows × 4 columns</p>\n",
       "</div>"
      ],
      "text/plain": [
       "           A0        A1        A2        A3\n",
       "0   -1.085631  0.997345  0.282978 -1.506295\n",
       "1   -0.578600  1.651437 -2.426679 -0.428913\n",
       "2    1.265936 -0.866740 -0.678886 -0.094709\n",
       "3    1.491390 -0.638902 -0.443982 -0.434351\n",
       "4    2.205930  2.186786  1.004054  0.386186\n",
       "..        ...       ...       ...       ...\n",
       "995 -0.499897  0.587647 -0.926542  1.736982\n",
       "996 -0.459550  0.125822 -1.119947 -0.521887\n",
       "997 -2.013430 -0.028708 -0.103142 -1.761313\n",
       "998 -0.185167  0.504077  1.354567 -0.907952\n",
       "999 -1.818045 -0.122733  1.794486 -0.320510\n",
       "\n",
       "[1000 rows x 4 columns]"
      ]
     },
     "execution_count": 4,
     "metadata": {},
     "output_type": "execute_result"
    }
   ],
   "source": [
    "returns"
   ]
  },
  {
   "cell_type": "code",
   "execution_count": 5,
   "metadata": {},
   "outputs": [],
   "source": [
    "## Data pre-processing\n",
    "\n",
    "## Vector of mean returns\n",
    "mu = returns.mean()\n",
    "\n",
    "## Vector of variace of returns\n",
    "muVar = returns.var()\n",
    "\n",
    "## Covariance matriz of returns\n",
    "sigma = returns.cov()"
   ]
  },
  {
   "cell_type": "code",
   "execution_count": 6,
   "metadata": {},
   "outputs": [
    {
     "name": "stdout",
     "output_type": "stream",
     "text": [
      "A0   -0.007502\n",
      "A1    0.039160\n",
      "A2   -0.010286\n",
      "A3    0.024285\n",
      "dtype: float64\n",
      "A0    0.954577\n",
      "A1    0.947671\n",
      "A2    1.024609\n",
      "A3    0.941717\n",
      "dtype: float64\n",
      "          A0        A1        A2        A3\n",
      "A0  0.954577  0.004155  0.046308 -0.033297\n",
      "A1  0.004155  0.947671  0.002206 -0.067590\n",
      "A2  0.046308  0.002206  1.024609  0.063885\n",
      "A3 -0.033297 -0.067590  0.063885  0.941717\n"
     ]
    }
   ],
   "source": [
    "print(mu)\n",
    "print(muVar)\n",
    "print(sigma)"
   ]
  },
  {
   "cell_type": "code",
   "execution_count": null,
   "metadata": {},
   "outputs": [],
   "source": []
  },
  {
   "cell_type": "markdown",
   "metadata": {},
   "source": [
    "### Model"
   ]
  },
  {
   "cell_type": "code",
   "execution_count": 7,
   "metadata": {},
   "outputs": [
    {
     "name": "stdout",
     "output_type": "stream",
     "text": [
      "Academic license - for non-commercial use only - expires 2021-10-22\n",
      "Using license file /home/hp/gurobi.lic\n"
     ]
    }
   ],
   "source": [
    "## Model instance\n",
    "model = gp.Model('Markovitz Portfolio')\n",
    "\n",
    "## Decision variables building\n",
    "variables = []\n",
    "for tag in names:\n",
    "    variables.append( model.addVar(lb=0, vtype=gp.GRB.CONTINUOUS, name=tag) )\n",
    "variables = Series(variables, index=names)\n",
    "\n",
    "## Objective function building (portfolio risk)\n",
    "portfolio_risk = sigma.dot(variables).dot(variables)\n",
    "\n",
    "## Objective function and model sense assignment\n",
    "model.setObjective(portfolio_risk, gp.GRB.MINIMIZE)\n",
    "\n",
    "## Constraint building\n",
    "model.addConstr(variables.sum(), gp.GRB.EQUAL, 1, name='budget')\n",
    "\n",
    "## setting: no report\n",
    "# model.setParam('OutputFlag', 0)\n",
    "\n",
    "## Model update\n",
    "model.update()"
   ]
  },
  {
   "cell_type": "code",
   "execution_count": 8,
   "metadata": {},
   "outputs": [
    {
     "name": "stdout",
     "output_type": "stream",
     "text": [
      "Minimize\n",
      "   <gurobi.QuadExpr: 0.0 + [ 0.9545765251782782 A0 ^ 2 + 0.008309645917993805 A0 * A1 + 0.09261570668374033 A0 * A2 + -0.06659386259971627 A0 * A3 + 0.9476710292839416 A1 ^ 2 + 0.004411722374403845 A1 * A2 + -0.13517979916133885 A1 * A3 + 1.0246089508970868 A2 ^ 2 + 0.1277700683688123 A2 * A3 + 0.9417169329442143 A3 ^ 2 ]>\n",
      "Subject To\n",
      "   budget : <gurobi.LinExpr: A0 + A1 + A2 + A3> = 1.0\n"
     ]
    }
   ],
   "source": [
    "## Model display\n",
    "model.display()"
   ]
  },
  {
   "cell_type": "code",
   "execution_count": 9,
   "metadata": {},
   "outputs": [
    {
     "name": "stdout",
     "output_type": "stream",
     "text": [
      "Gurobi Optimizer version 9.1.1 build v9.1.1rc0 (linux64)\n",
      "Thread count: 2 physical cores, 4 logical processors, using up to 4 threads\n",
      "Optimize a model with 1 rows, 4 columns and 4 nonzeros\n",
      "Model fingerprint: 0xa9438a10\n",
      "Model has 10 quadratic objective terms\n",
      "Coefficient statistics:\n",
      "  Matrix range     [1e+00, 1e+00]\n",
      "  Objective range  [0e+00, 0e+00]\n",
      "  QObjective range [9e-03, 2e+00]\n",
      "  Bounds range     [0e+00, 0e+00]\n",
      "  RHS range        [1e+00, 1e+00]\n",
      "Presolve time: 0.01s\n",
      "Presolved: 1 rows, 4 columns, 4 nonzeros\n",
      "Presolved model has 10 quadratic objective terms\n",
      "Ordering time: 0.00s\n",
      "\n",
      "Barrier statistics:\n",
      " Free vars  : 3\n",
      " AA' NZ     : 6.000e+00\n",
      " Factor NZ  : 1.000e+01\n",
      " Factor Ops : 3.000e+01 (less than 1 second per iteration)\n",
      " Threads    : 1\n",
      "\n",
      "                  Objective                Residual\n",
      "Iter       Primal          Dual         Primal    Dual     Compl     Time\n",
      "   0   2.36579967e+05 -2.36579967e+05  3.50e+03 8.45e-07  1.00e+06     0s\n",
      "   1   9.59041809e+03 -1.06912645e+04  9.29e+01 2.24e-08  3.02e+04     0s\n",
      "   2   2.90964494e-01 -1.26660660e+03  9.29e-05 2.57e-14  3.17e+02     0s\n",
      "   3   2.90789299e-01 -1.25594538e+00  2.06e-08 2.78e-17  3.87e-01     0s\n",
      "   4   2.49274601e-01  1.55851492e-01  2.78e-10 2.78e-17  2.34e-02     0s\n",
      "   5   2.41167887e-01  2.36456598e-01  4.44e-15 2.78e-17  1.18e-03     0s\n",
      "   6   2.41134134e-01  2.41129472e-01  4.44e-16 2.78e-17  1.17e-06     0s\n",
      "   7   2.41134134e-01  2.41134130e-01  4.44e-16 3.00e-18  1.17e-09     0s\n",
      "\n",
      "Barrier solved model in 7 iterations and 0.03 seconds\n",
      "Optimal objective 2.41134134e-01\n",
      "\n"
     ]
    }
   ],
   "source": [
    "## Optimize the model\n",
    "model.optimize()"
   ]
  },
  {
   "cell_type": "code",
   "execution_count": 10,
   "metadata": {},
   "outputs": [
    {
     "name": "stdout",
     "output_type": "stream",
     "text": [
      "Minimum risk of the optimal portfolio: 0.241134\n",
      "Minimum volatility of the optimal portfolio: 0.491054\n"
     ]
    }
   ],
   "source": [
    "## Valor optimo del modelo\n",
    "minimumRisk = model.ObjVal\n",
    "print('Minimum risk of the optimal portfolio: {:.6f}'.format(minimumRisk))\n",
    "print('Minimum volatility of the optimal portfolio: {:.6f}'.format(sqrt(minimumRisk)))"
   ]
  },
  {
   "cell_type": "code",
   "execution_count": 11,
   "metadata": {},
   "outputs": [
    {
     "name": "stdout",
     "output_type": "stream",
     "text": [
      "The profitability of the optimal portfolio: 0.0132190687\n"
     ]
    }
   ],
   "source": [
    "## Let's compute the profitability of the optimal portfolio\n",
    "rMin = 0\n",
    "for i in range(len(variables)):\n",
    "    rMin += mu[i] * variables[i].x\n",
    "\n",
    "print(\"The profitability of the optimal portfolio: {:.10f}\".format(rMin))\n"
   ]
  },
  {
   "cell_type": "code",
   "execution_count": 12,
   "metadata": {},
   "outputs": [
    {
     "data": {
      "text/plain": [
       "A0    <gurobi.Var A0 (value 0.2508371204076176)>\n",
       "A1    <gurobi.Var A1 (value 0.2721575957606374)>\n",
       "A2    <gurobi.Var A2 (value 0.2065573257098918)>\n",
       "A3    <gurobi.Var A3 (value 0.2704479581218536)>\n",
       "dtype: object"
      ]
     },
     "execution_count": 12,
     "metadata": {},
     "output_type": "execute_result"
    }
   ],
   "source": [
    "variables"
   ]
  },
  {
   "cell_type": "markdown",
   "metadata": {},
   "source": [
    "### Efficient frontier building"
   ]
  },
  {
   "cell_type": "code",
   "execution_count": 14,
   "metadata": {},
   "outputs": [
    {
     "name": "stdout",
     "output_type": "stream",
     "text": [
      "Infeasible or unbounded: r=0.03939015408062961\n",
      "Infeasible or unbounded: r=0.03992425786477374\n",
      "Infeasible or unbounded: r=0.040458361648917876\n",
      "Infeasible or unbounded: r=0.04099246543306201\n",
      "Infeasible or unbounded: r=0.041526569217206134\n",
      "Infeasible or unbounded: r=0.04206067300135027\n",
      "Infeasible or unbounded: r=0.04259477678549439\n",
      "Infeasible or unbounded: r=0.043128880569638525\n",
      "Infeasible or unbounded: r=0.04366298435378266\n",
      "Infeasible or unbounded: r=0.04419708813792679\n",
      "Infeasible or unbounded: r=0.04473119192207092\n",
      "Infeasible or unbounded: r=0.04526529570621504\n",
      "Infeasible or unbounded: r=0.045799399490359174\n",
      "Infeasible or unbounded: r=0.04633350327450331\n",
      "Infeasible or unbounded: r=0.04686760705864744\n",
      "Infeasible or unbounded: r=0.04740171084279157\n",
      "Infeasible or unbounded: r=0.047935814626935705\n",
      "Infeasible or unbounded: r=0.048469918411079824\n",
      "Infeasible or unbounded: r=0.049004022195223956\n",
      "Infeasible or unbounded: r=0.04953812597936809\n",
      "Infeasible or unbounded: r=0.05007222976351222\n",
      "Infeasible or unbounded: r=0.050606333547656354\n",
      "Infeasible or unbounded: r=0.05114043733180049\n",
      "Infeasible or unbounded: r=0.051674541115944606\n",
      "Infeasible or unbounded: r=0.05220864490008874\n",
      "Infeasible or unbounded: r=0.05274274868423287\n",
      "Infeasible or unbounded: r=0.053276852468377\n",
      "Infeasible or unbounded: r=0.053810956252521136\n",
      "Infeasible or unbounded: r=0.05434506003666527\n",
      "Infeasible or unbounded: r=0.05487916382080939\n",
      "Infeasible or unbounded: r=0.05541326760495352\n",
      "Infeasible or unbounded: r=0.05594737138909765\n",
      "Infeasible or unbounded: r=0.056481475173241785\n",
      "Infeasible or unbounded: r=0.05701557895738592\n",
      "Infeasible or unbounded: r=0.05754968274153005\n",
      "Infeasible or unbounded: r=0.05808378652567417\n",
      "Infeasible or unbounded: r=0.0586178903098183\n",
      "Infeasible or unbounded: r=0.059151994093962434\n",
      "Infeasible or unbounded: r=0.05968609787810657\n",
      "Infeasible or unbounded: r=0.0602202016622507\n",
      "Infeasible or unbounded: r=0.06075430544639483\n",
      "Infeasible or unbounded: r=0.06128840923053895\n",
      "Infeasible or unbounded: r=0.061822513014683084\n",
      "Infeasible or unbounded: r=0.062356616798827216\n",
      "Infeasible or unbounded: r=0.06289072058297135\n",
      "Infeasible or unbounded: r=0.06342482436711548\n",
      "Infeasible or unbounded: r=0.06395892815125961\n",
      "Infeasible or unbounded: r=0.06449303193540373\n",
      "Infeasible or unbounded: r=0.06502713571954787\n",
      "Infeasible or unbounded: r=0.065561239503692\n",
      "Infeasible or unbounded: r=0.06609534328783613\n"
     ]
    }
   ],
   "source": [
    "Status = {1: 'Loaded',\n",
    "          2: 'Optimal', \n",
    "          3: 'Infeasible', \n",
    "          4: 'Infeasible or unbounded', \n",
    "          5: 'Unbounded'}\n",
    "\n",
    "## Variable storage of output for each scenario varying minimal return in the model\n",
    "scenarios = []\n",
    "rScenarios = []\n",
    "sigmaScenarios = []\n",
    "\n",
    "## Minimal profitability (minimal total return of invested assets) constraint building\n",
    "portfolioProfitability = mu.dot(variables)\n",
    "\n",
    "## Let's add the minimal profitability to the model\n",
    "target = model.addConstr(portfolioProfitability, gp.GRB.GREATER_EQUAL, 0, name='minimum profitability')\n",
    "\n",
    "model.setParam('OutputFlag', 0)\n",
    "\n",
    "## Model update\n",
    "model.update()\n",
    "\n",
    "for r in linspace(rMin, 5*rMin, 100):\n",
    "    \n",
    "    ## Assign the minimum profitability value to the model\n",
    "    target.RHS = r\n",
    "    \n",
    "    ## Model update\n",
    "    model.update()\n",
    "    \n",
    "    ## Clear all results stored in the model\n",
    "    model.reset()\n",
    "    \n",
    "    ## Optimize the updated model\n",
    "    model.optimize()\n",
    "    \n",
    "    ## Store the output from the optimal model\n",
    "    if model.Status == gp.GRB.OPTIMAL:\n",
    "        scenarios.append([var.x for var in variables])\n",
    "        rScenarios.append(r)\n",
    "        sigmaScenarios.append(model.ObjVal)\n",
    "    else:\n",
    "        print('{}: r={}'.format(Status[model.Status], r))"
   ]
  },
  {
   "cell_type": "code",
   "execution_count": 15,
   "metadata": {},
   "outputs": [
    {
     "data": {
      "image/png": "[encoded data removed]",
      "text/plain": [
       "<Figure size 720x288 with 1 Axes>"
      ]
     },
     "metadata": {
      "needs_background": "light"
     },
     "output_type": "display_data"
    }
   ],
   "source": [
    "## Plot efficient frontier\n",
    "plt.figure(figsize=(10, 4))\n",
    "plt.plot(sigmaScenarios, rScenarios, marker='o', markerfacecolor='r', label='Efficient Frontier')\n",
    "plt.scatter(x=muVar, y=mu,\n",
    "           color='Blue', label='Individual Stocks')\n",
    "for i, stock in enumerate(names):\n",
    "    plt.annotate(stock, (muVar[i], mu[i]))\n",
    "plt.xlabel('Variability')\n",
    "plt.ylabel('Profitability') \n",
    "plt.title('Efficient Frontier')\n",
    "plt.legend()\n",
    "plt.show()\n"
   ]
  },
  {
   "cell_type": "code",
   "execution_count": 17,
   "metadata": {},
   "outputs": [
    {
     "data": {
      "image/png": "[encoded data removed]",
      "text/plain": [
       "<Figure size 720x288 with 1 Axes>"
      ]
     },
     "metadata": {
      "needs_background": "light"
     },
     "output_type": "display_data"
    }
   ],
   "source": [
    "## Plot efficient frontier\n",
    "plt.figure(figsize=(10, 4))\n",
    "plt.xlabel('Variability'); \n",
    "plt.ylabel('Profitability'); \n",
    "plt.title('Efficient Frontier')\n",
    "plt.plot(sigmaScenarios, rScenarios, marker='o', markerfacecolor='r', label='Efficient Frontier')\n",
    "plt.plot(sigmaScenarios, -array(rScenarios)+2*rMin, color='b', marker='o', markerfacecolor='r')\n",
    "plt.scatter(x=muVar, y=mu,\n",
    "           color='Blue', label='Individual Stocks')\n",
    "for i, stock in enumerate(names):\n",
    "    plt.annotate(stock, (muVar[i], mu[i]))\n",
    "\n",
    "plt.legend()\n",
    "plt.show()\n"
   ]
  },
  {
   "cell_type": "code",
   "execution_count": null,
   "metadata": {},
   "outputs": [],
   "source": []
  }
 ],
 "metadata": {
  "kernelspec": {
   "display_name": "Python 3",
   "language": "python",
   "name": "python3"
  },
  "language_info": {
   "codemirror_mode": {
    "name": "ipython",
    "version": 3
   },
   "file_extension": ".py",
   "mimetype": "text/x-python",
   "name": "python",
   "nbconvert_exporter": "python",
   "pygments_lexer": "ipython3",
   "version": "3.8.10"
  }
 },
 "nbformat": 4,
 "nbformat_minor": 4
}
