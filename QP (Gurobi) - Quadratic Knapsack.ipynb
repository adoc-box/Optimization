{
 "cells": [
  {
   "cell_type": "markdown",
   "metadata": {},
   "source": [
    "**Created on**: 2021.09.04\n",
    "\n",
    "**Implemented by**:Anthony Cho\n",
    "\n",
    "**Subject**: Quadratic programming: Quadratic Knapsack"
   ]
  },
  {
   "cell_type": "markdown",
   "metadata": {},
   "source": [
    "### Problem\n",
    "\n",
    "Given a set of $N$ elements. Each element has its own weight $w_{i}$, a profit $b_{i}$, and an extra profit $p_{ij}$ if the element $i$ and element $j$ are selected. The goal is to decide which element to take into the knapsack in order to maximize the total profit.\n",
    "\n",
    "### Model:\n",
    "\n",
    "$$\\max \\sum_{i=1}^{N} b_i x_i + \\sum_{i=1}^{N} \\left[ \\sum_{j=1, j\\neq i}^{N} p_{ij}x_i x_j \\right] $$\n",
    "s.a. $$\\sum_{i=1}^{N} w_i x_i \\leq W,$$ $$\\textbf{x} \\in \\{0,1\\}.$$"
   ]
  },
  {
   "cell_type": "code",
   "execution_count": 1,
   "metadata": {},
   "outputs": [],
   "source": [
    "## Libraries dependencies\n",
    "\n",
    "import gurobipy as gp\n",
    "from numpy import array"
   ]
  },
  {
   "cell_type": "markdown",
   "metadata": {},
   "source": [
    "### Data"
   ]
  },
  {
   "cell_type": "code",
   "execution_count": 2,
   "metadata": {},
   "outputs": [],
   "source": [
    "## Knapsack's maximum weight\n",
    "W = 50\n",
    "\n",
    "## Number of elements available\n",
    "N = 15\n",
    "\n",
    "## Profit of each element\n",
    "b = array([7, 6, 13,16, 5, 10, 9, 23, 18, 12, 9, 22, 17, 32, 8])\n",
    "\n",
    "## Weight of each element\n",
    "w = array([13, 14, 14, 15, 15, 9, 26, 24, 13, 11, 9, 12, 25, 12, 26])\n",
    "\n",
    "## Extra profit of pair of elements (matrix)\n",
    "p = array([7, 12, 7, 6, 13, 8, 11 , 7 , 15 , 23, 14, 15, 17, 9, 15,\n",
    "              12, 6, 15, 13, 10, 15, 9, 10, 8, 17, 11, 13, 12, 16, 15,\n",
    "              7, 15, 13, 11, 16, 6, 8, 14, 13, 4, 14, 8, 15, 9, 16,\n",
    "              6, 13, 11, 16, 10, 13, 14, 14, 17, 15, 14, 6, 24, 13, 4,\n",
    "              13, 10, 16, 10, 5, 9, 7, 25, 12 , 6, 6, 16, 10, 15, 14,\n",
    "              8, 15, 6, 13, 9, 10, 2, 13, 12, 16, 9, 11, 23, 10, 21,\n",
    "              11, 9, 8, 14, 7, 2, 9, 8, 18, 4, 13, 14, 14, 17, 15,\n",
    "              7, 10, 14, 14, 25, 13, 8, 23, 9, 16, 12, 3, 14, 14, 27,\n",
    "              15, 8, 13, 17, 12, 12, 18, 9, 18, 15, 16, 13, 14, 7, 17,\n",
    "              23, 17, 4, 15, 6, 16, 4, 16, 15, 12, 28, 5, 19, 6, 18,\n",
    "              14, 11, 14, 14, 6, 9, 13, 12, 16, 28, 9, 13, 4, 13, 16,\n",
    "              15, 13, 8, 6, 16, 11, 14, 3, 13, 5, 13, 22, 11, 19, 13,\n",
    "              17, 12, 15, 24, 10, 23, 14, 14, 14, 19, 4, 11, 17, 15, 12,\n",
    "              9, 16, 9, 13, 15, 10, 17, 14, 7, 6, 13, 19, 15, 32, 16,\n",
    "              15, 15, 16, 4, 14, 21, 15, 27, 17, 18, 16, 13, 12, 16, 8\n",
    "    ]).reshape(N, N)"
   ]
  },
  {
   "cell_type": "code",
   "execution_count": 3,
   "metadata": {},
   "outputs": [
    {
     "data": {
      "text/plain": [
       "array([[ 7, 12,  7,  6, 13,  8, 11,  7, 15, 23, 14, 15, 17,  9, 15],\n",
       "       [12,  6, 15, 13, 10, 15,  9, 10,  8, 17, 11, 13, 12, 16, 15],\n",
       "       [ 7, 15, 13, 11, 16,  6,  8, 14, 13,  4, 14,  8, 15,  9, 16],\n",
       "       [ 6, 13, 11, 16, 10, 13, 14, 14, 17, 15, 14,  6, 24, 13,  4],\n",
       "       [13, 10, 16, 10,  5,  9,  7, 25, 12,  6,  6, 16, 10, 15, 14],\n",
       "       [ 8, 15,  6, 13,  9, 10,  2, 13, 12, 16,  9, 11, 23, 10, 21],\n",
       "       [11,  9,  8, 14,  7,  2,  9,  8, 18,  4, 13, 14, 14, 17, 15],\n",
       "       [ 7, 10, 14, 14, 25, 13,  8, 23,  9, 16, 12,  3, 14, 14, 27],\n",
       "       [15,  8, 13, 17, 12, 12, 18,  9, 18, 15, 16, 13, 14,  7, 17],\n",
       "       [23, 17,  4, 15,  6, 16,  4, 16, 15, 12, 28,  5, 19,  6, 18],\n",
       "       [14, 11, 14, 14,  6,  9, 13, 12, 16, 28,  9, 13,  4, 13, 16],\n",
       "       [15, 13,  8,  6, 16, 11, 14,  3, 13,  5, 13, 22, 11, 19, 13],\n",
       "       [17, 12, 15, 24, 10, 23, 14, 14, 14, 19,  4, 11, 17, 15, 12],\n",
       "       [ 9, 16,  9, 13, 15, 10, 17, 14,  7,  6, 13, 19, 15, 32, 16],\n",
       "       [15, 15, 16,  4, 14, 21, 15, 27, 17, 18, 16, 13, 12, 16,  8]])"
      ]
     },
     "execution_count": 3,
     "metadata": {},
     "output_type": "execute_result"
    }
   ],
   "source": [
    "p"
   ]
  },
  {
   "cell_type": "markdown",
   "metadata": {},
   "source": [
    "### Model"
   ]
  },
  {
   "cell_type": "code",
   "execution_count": 4,
   "metadata": {},
   "outputs": [
    {
     "name": "stdout",
     "output_type": "stream",
     "text": [
      "Academic license - for non-commercial use only - expires 2021-10-22\n",
      "Using license file /home/hp/gurobi.lic\n"
     ]
    }
   ],
   "source": [
    "## Model instance\n",
    "model = gp.Model('QP Knapsack')\n",
    "\n",
    "## Creating decision variables: Select or not the element i, for all i\n",
    "variables = []\n",
    "for i in range(N):\n",
    "    variables.append( model.addVar(lb=0, vtype=gp.GRB.BINARY, name='item[{}]'.format(i)) )\n",
    "variables = array(variables)\n",
    "\n",
    "## Update the model\n",
    "model.update()"
   ]
  },
  {
   "cell_type": "code",
   "execution_count": 5,
   "metadata": {},
   "outputs": [],
   "source": [
    "## Objective function building\n",
    "fObj = b.dot(variables) + variables.dot(p).dot(variables)\n",
    "\n",
    "## Objective function and model sense assignment\n",
    "model.setObjective(fObj, gp.GRB.MAXIMIZE)\n",
    "\n",
    "## Update the model\n",
    "model.update()"
   ]
  },
  {
   "cell_type": "code",
   "execution_count": 6,
   "metadata": {},
   "outputs": [],
   "source": [
    "## Constraint: Knapsack weight limit\n",
    "constrPeso = model.addConstr(w.dot(variables), gp.GRB.LESS_EQUAL, W, name='LimitePeso')\n",
    "\n",
    "## Update the model\n",
    "model.update()"
   ]
  },
  {
   "cell_type": "code",
   "execution_count": 7,
   "metadata": {},
   "outputs": [
    {
     "name": "stdout",
     "output_type": "stream",
     "text": [
      "Maximize\n",
      "   <gurobi.QuadExpr: 7.0 item[0] + 6.0 item[1] + 13.0 item[2] + 16.0 item[3] + 5.0 item[4] + 10.0 item[5] + 9.0 item[6] + 23.0 item[7] + 18.0 item[8] + 12.0 item[9] + 9.0 item[10] + 22.0 item[11] + 17.0 item[12] + 32.0 item[13] + 8.0 item[14] + [ 7.0 item[0] ^ 2 + 24.0 item[0] * item[1] + 14.0 item[0] * item[2] + 12.0 item[0] * item[3] + 26.0 item[0] * item[4] + 16.0 item[0] * item[5] + 22.0 item[0] * item[6] + 14.0 item[0] * item[7] + 30.0 item[0] * item[8] + 46.0 item[0] * item[9] + 28.0 item[0] * item[10] + 30.0 item[0] * item[11] + 34.0 item[0] * item[12] + 18.0 item[0] * item[13] + 30.0 item[0] * item[14] + 6.0 item[1] ^ 2 + 30.0 item[1] * item[2] + 26.0 item[1] * item[3] + 20.0 item[1] * item[4] + 30.0 item[1] * item[5] + 18.0 item[1] * item[6] + 20.0 item[1] * item[7] + 16.0 item[1] * item[8] + 34.0 item[1] * item[9] + 22.0 item[1] * item[10] + 26.0 item[1] * item[11] + 24.0 item[1] * item[12] + 32.0 item[1] * item[13] + 30.0 item[1] * item[14] + 13.0 item[2] ^ 2 + 22.0 item[2] * item[3] + 32.0 item[2] * item[4] + 12.0 item[2] * item[5] + 16.0 item[2] * item[6] + 28.0 item[2] * item[7] + 26.0 item[2] * item[8] + 8.0 item[2] * item[9] + 28.0 item[2] * item[10] + 16.0 item[2] * item[11] + 30.0 item[2] * item[12] + 18.0 item[2] * item[13] + 32.0 item[2] * item[14] + 16.0 item[3] ^ 2 + 20.0 item[3] * item[4] + 26.0 item[3] * item[5] + 28.0 item[3] * item[6] + 28.0 item[3] * item[7] + 34.0 item[3] * item[8] + 30.0 item[3] * item[9] + 28.0 item[3] * item[10] + 12.0 item[3] * item[11] + 48.0 item[3] * item[12] + 26.0 item[3] * item[13] + 8.0 item[3] * item[14] + 5.0 item[4] ^ 2 + 18.0 item[4] * item[5] + 14.0 item[4] * item[6] + 50.0 item[4] * item[7] + 24.0 item[4] * item[8] + 12.0 item[4] * item[9] + 12.0 item[4] * item[10] + 32.0 item[4] * item[11] + 20.0 item[4] * item[12] + 30.0 item[4] * item[13] + 28.0 item[4] * item[14] + 10.0 item[5] ^ 2 + 4.0 item[5] * item[6] + 26.0 item[5] * item[7] + 24.0 item[5] * item[8] + 32.0 item[5] * item[9] + 18.0 item[5] * item[10] + 22.0 item[5] * item[11] + 46.0 item[5] * item[12] + 20.0 item[5] * item[13] + 42.0 item[5] * item[14] + 9.0 item[6] ^ 2 + 16.0 item[6] * item[7] + 36.0 item[6] * item[8] + 8.0 item[6] * item[9] + 26.0 item[6] * item[10] + 28.0 item[6] * item[11] + 28.0 item[6] * item[12] + 34.0 item[6] * item[13] + 30.0 item[6] * item[14] + 23.0 item[7] ^ 2 + 18.0 item[7] * item[8] + 32.0 item[7] * item[9] + 24.0 item[7] * item[10] + 6.0 item[7] * item[11] + 28.0 item[7] * item[12] + 28.0 item[7] * item[13] + 54.0 item[7] * item[14] + 18.0 item[8] ^ 2 + 30.0 item[8] * item[9] + 32.0 item[8] * item[10] + 26.0 item[8] * item[11] + 28.0 item[8] * item[12] + 14.0 item[8] * item[13] + 34.0 item[8] * item[14] + 12.0 item[9] ^ 2 + 56.0 item[9] * item[10] + 10.0 item[9] * item[11] + 38.0 item[9] * item[12] + 12.0 item[9] * item[13] + 36.0 item[9] * item[14] + 9.0 item[10] ^ 2 + 26.0 item[10] * item[11] + 8.0 item[10] * item[12] + 26.0 item[10] * item[13] + 32.0 item[10] * item[14] + 22.0 item[11] ^ 2 + 22.0 item[11] * item[12] + 38.0 item[11] * item[13] + 26.0 item[11] * item[14] + 17.0 item[12] ^ 2 + 30.0 item[12] * item[13] + 24.0 item[12] * item[14] + 32.0 item[13] ^ 2 + 32.0 item[13] * item[14] + 8.0 item[14] ^ 2 ]>\n",
      "Subject To\n",
      "   LimitePeso : <gurobi.LinExpr: 13.0 item[0] + 14.0 item[1] + 14.0 item[2] + 15.0 item[3] + 15.0 item[4] + 9.0 item[5] + 26.0 item[6] + 24.0 item[7] + 13.0 item[8] + 11.0 item[9] + 9.0 item[10] + 12.0 item[11] + 25.0 item[12] + 12.0 item[13] + 26.0 item[14]> <= 50.0\n",
      "Binaries\n",
      "   ['item[0]', 'item[1]', 'item[2]', 'item[3]', 'item[4]', 'item[5]', 'item[6]', 'item[7]', 'item[8]', 'item[9]', 'item[10]', 'item[11]', 'item[12]', 'item[13]', 'item[14]']\n"
     ]
    }
   ],
   "source": [
    "## Model display\n",
    "model.display()"
   ]
  },
  {
   "cell_type": "code",
   "execution_count": 8,
   "metadata": {},
   "outputs": [
    {
     "name": "stdout",
     "output_type": "stream",
     "text": [
      "Gurobi Optimizer version 9.1.1 build v9.1.1rc0 (linux64)\n",
      "Thread count: 2 physical cores, 4 logical processors, using up to 4 threads\n",
      "Optimize a model with 1 rows, 15 columns and 15 nonzeros\n",
      "Model fingerprint: 0x281937d7\n",
      "Model has 120 quadratic objective terms\n",
      "Variable types: 0 continuous, 15 integer (15 binary)\n",
      "Coefficient statistics:\n",
      "  Matrix range     [9e+00, 3e+01]\n",
      "  Objective range  [5e+00, 3e+01]\n",
      "  QObjective range [8e+00, 1e+02]\n",
      "  Bounds range     [1e+00, 1e+00]\n",
      "  RHS range        [5e+01, 5e+01]\n",
      "Found heuristic solution: objective -0.0000000\n",
      "Presolve time: 0.01s\n",
      "Presolved: 106 rows, 120 columns, 330 nonzeros\n",
      "Variable types: 0 continuous, 120 integer (120 binary)\n",
      "\n",
      "Root relaxation: objective -6.466981e+02, 89 iterations, 0.00 seconds\n",
      "\n",
      "    Nodes    |    Current Node    |     Objective Bounds      |     Work\n",
      " Expl Unexpl |  Obj  Depth IntInf | Incumbent    BestBd   Gap | It/Node Time\n",
      "\n",
      "     0     0  646.69811    0   20   -0.00000  646.69811      -     -    0s\n",
      "H    0     0                     164.0000000  646.69811   294%     -    0s\n",
      "     0     0  508.97627    0   52  164.00000  508.97627   210%     -    0s\n",
      "H    0     0                     220.0000000  508.97627   131%     -    0s\n",
      "     0     0  475.44031    0   56  220.00000  475.44031   116%     -    0s\n",
      "     0     0  475.04048    0   58  220.00000  475.04048   116%     -    0s\n",
      "     0     0  428.18250    0   64  220.00000  428.18250  94.6%     -    0s\n",
      "H    0     0                     232.0000000  428.18250  84.6%     -    0s\n",
      "     0     0  425.20964    0   60  232.00000  425.20964  83.3%     -    0s\n",
      "     0     0  413.16959    0   59  232.00000  413.16959  78.1%     -    0s\n",
      "     0     0  413.16959    0   59  232.00000  413.16959  78.1%     -    0s\n",
      "H    0     0                     318.0000000  413.16959  29.9%     -    0s\n",
      "     0     2  413.16959    0   59  318.00000  413.16959  29.9%     -    0s\n",
      "H   16     7                     324.0000000  386.70744  19.4%  18.3    0s\n",
      "\n",
      "Cutting planes:\n",
      "  Gomory: 2\n",
      "  Cover: 1\n",
      "  MIR: 5\n",
      "  StrongCG: 1\n",
      "  Mod-K: 1\n",
      "  RLT: 12\n",
      "\n",
      "Explored 40 nodes (921 simplex iterations) in 0.22 seconds\n",
      "Thread count was 4 (of 4 available processors)\n",
      "\n",
      "Solution count 6: 324 318 232 ... -0\n",
      "\n",
      "Optimal solution found (tolerance 1.00e-04)\n",
      "Best objective 3.240000000000e+02, best bound 3.240000000000e+02, gap 0.0000%\n"
     ]
    }
   ],
   "source": [
    "## Optimize the model\n",
    "model.optimize()"
   ]
  },
  {
   "cell_type": "code",
   "execution_count": 9,
   "metadata": {},
   "outputs": [
    {
     "name": "stdout",
     "output_type": "stream",
     "text": [
      "Total profit: 324.0\n",
      "Knapsack free weight remaining: 4.0\n",
      "Elements to take into the knapsack are: 8 10 11 13 "
     ]
    }
   ],
   "source": [
    "## Optimal objective value\n",
    "print('Total profit: {}'.format(model.ObjVal))\n",
    "\n",
    "## Slack\n",
    "print('Knapsack free weight remaining: {}'.format(constrPeso.Slack))\n",
    "\n",
    "## Reporte de elementos considerados\n",
    "print('Elements to take into the knapsack are: ', end='')\n",
    "for i, item in enumerate(variables):\n",
    "    if item.x > 0:\n",
    "        print(i, end=' ')\n",
    "    "
   ]
  },
  {
   "cell_type": "code",
   "execution_count": null,
   "metadata": {},
   "outputs": [],
   "source": []
  }
 ],
 "metadata": {
  "kernelspec": {
   "display_name": "Python 3",
   "language": "python",
   "name": "python3"
  },
  "language_info": {
   "codemirror_mode": {
    "name": "ipython",
    "version": 3
   },
   "file_extension": ".py",
   "mimetype": "text/x-python",
   "name": "python",
   "nbconvert_exporter": "python",
   "pygments_lexer": "ipython3",
   "version": "3.8.10"
  }
 },
 "nbformat": 4,
 "nbformat_minor": 4
}
