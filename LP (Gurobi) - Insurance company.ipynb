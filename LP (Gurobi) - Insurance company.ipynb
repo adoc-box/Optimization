{
 "cells": [
  {
   "cell_type": "markdown",
   "metadata": {},
   "source": [
    "**Created on**: 2021.09.04\n",
    "\n",
    "**Implemented by**:Anthony Cho\n",
    "\n",
    "**Subject**: Linear programming: Insurance company\n",
    "\n",
    "**Reference**: Introduction to operation research (10th Edition) - Hillier and Lieberman.\n",
    "**Problem**: 3.1-9"
   ]
  },
  {
   "cell_type": "markdown",
   "metadata": {},
   "source": [
    "## Problem: "
   ]
  },
  {
   "cell_type": "markdown",
   "metadata": {},
   "source": [
    "The Primo Insurance Company is introducing two new product lines: special risk insurance and mortgages. The expected profit is: \n",
    "* &#36;5 per unit on special risk insurance \n",
    "* &#36;2 per unit on mortgages. \n",
    "\n",
    "Management wishes to establish sales quotas for the new product lines to maximize total expected profit. The work requirements are as follows:\n",
    "\n",
    "|                  | Work-hours per unid   |              |                           |\n",
    "|------------------|-----------------------|--------------|---------------------------|\n",
    "| **Department**   | **Special Risk**      | **Mortgage** | **Work-Hours Available**  |\n",
    "| Underwriting     | 3                     | 2            | 2400                      |\n",
    "| Administration   | 0                     | 1            | 800                       |\n",
    "| Claims           | 2                     | 0            | 1200                      |"
   ]
  },
  {
   "cell_type": "markdown",
   "metadata": {},
   "source": [
    "**Parameters**:\n",
    "* $g_j$: expected profit per unit by product $j$.\n",
    "* $w_{i,j}$: amount of work-hours per unit by product $j$ processed in departament $i$.\n",
    "* $l_i$: work-hours available in department $i$.\n",
    "\n",
    "**Decision variables**:\n",
    "* $X_j$: amount of units to sell the product $j$.\n",
    "\n",
    "**Constraints**:\n",
    "* **work-hours limit**: $\\quad \\sum_{j} w_{i,j} \\cdot X_{j} \\leq l_j, \\quad \\forall i.$\n",
    "* **Decision variable bound**: $X_{j} \\geq 0, \\quad \\forall j$.\n",
    "\n",
    "**Objective function**:\n",
    "* $\\max_{X} \\sum_{j} g_{j} \\cdot X_{j}$.\n"
   ]
  },
  {
   "cell_type": "markdown",
   "metadata": {},
   "source": [
    "### General model\n",
    "\n",
    "$$\\max_{X} \\sum_{j} g_{j} \\cdot X_{j}$$\n",
    "\n",
    "s.t.\n",
    "\n",
    "$$\\quad \\sum_{j} w_{i,j} \\cdot X_{j} \\leq l_j, \\quad \\forall i.$$\n",
    "$$X_{j} \\geq 0, \\quad \\forall j$$"
   ]
  },
  {
   "cell_type": "markdown",
   "metadata": {},
   "source": [
    "### Particular model\n",
    "\n",
    "$$\\max_{X} 5 X_{1} + 2 X_{2}$$\n",
    "\n",
    "s.a.\n",
    "\n",
    "|||||\n",
    "|----------|---------  |--------|------|\n",
    "| $3X_{1}$  | $+2X_{2}$ | $\\leq$ | 2400 |\n",
    "|          | $X_{2}$   | $\\leq$ | 800  |\n",
    "| $2X_{1}$ |           | $\\leq$ | 1200 |\n",
    "\n",
    "\n",
    "$$X_{1}, X_{2} \\geq 0$$"
   ]
  },
  {
   "cell_type": "code",
   "execution_count": 1,
   "metadata": {},
   "outputs": [],
   "source": [
    "## Libraries dependencies\n",
    "\n",
    "import gurobipy as gp"
   ]
  },
  {
   "cell_type": "markdown",
   "metadata": {},
   "source": [
    "### Parameters"
   ]
  },
  {
   "cell_type": "code",
   "execution_count": 2,
   "metadata": {},
   "outputs": [],
   "source": [
    "## Expected profit per unit by product\n",
    "profit = {'Special Risk': 5, \n",
    "            'Mortgage': 2}\n",
    "\n",
    "## Work-hours per product by department\n",
    "W = {'Underwriting': {'Special Risk': 3, 'Mortgage': 2},\n",
    "     'Administration': {'Special Risk': 0, 'Mortgage': 1},\n",
    "     'Claims': {'Special Risk': 2, 'Mortgage': 0}\n",
    "    }\n",
    "\n",
    "## Work-hours available per department\n",
    "L = {'Underwriting': 2400,\n",
    "     'Administration': 800,\n",
    "     'Claims': 1200\n",
    "    }"
   ]
  },
  {
   "cell_type": "markdown",
   "metadata": {},
   "source": [
    "### LP-Model"
   ]
  },
  {
   "cell_type": "code",
   "execution_count": 3,
   "metadata": {},
   "outputs": [
    {
     "name": "stdout",
     "output_type": "stream",
     "text": [
      "Academic license - for non-commercial use only - expires 2022-11-29\n",
      "Using license file /home/hp/gurobi.lic\n"
     ]
    }
   ],
   "source": [
    "## Model instance\n",
    "model = gp.Model('InsuranceCompany')\n",
    "model.modelSense = gp.GRB.MAXIMIZE"
   ]
  },
  {
   "cell_type": "code",
   "execution_count": 4,
   "metadata": {},
   "outputs": [],
   "source": [
    "## Decision-variables\n",
    "X = {}\n",
    "for p in profit.keys():\n",
    "    X[p] = model.addVar(obj=profit[p], lb=0, vtype=gp.GRB.CONTINUOUS, name=f'X[{p}]')"
   ]
  },
  {
   "cell_type": "code",
   "execution_count": 5,
   "metadata": {},
   "outputs": [],
   "source": [
    "## Constraints\n",
    "for dep in W.keys():\n",
    "    lexp = gp.LinExpr()\n",
    "    for p in W[dep].keys():\n",
    "        lexp.addTerms(W[dep][p], X[p])\n",
    "    model.addConstr(lexp, gp.GRB.LESS_EQUAL, L[dep], name=f'MaxWorkHours[{dep}]')"
   ]
  },
  {
   "cell_type": "code",
   "execution_count": 6,
   "metadata": {},
   "outputs": [],
   "source": [
    "## Model update\n",
    "model.update()"
   ]
  },
  {
   "cell_type": "code",
   "execution_count": 7,
   "metadata": {},
   "outputs": [
    {
     "name": "stdout",
     "output_type": "stream",
     "text": [
      "Maximize\n",
      "   <gurobi.LinExpr: 5.0 X[Special Risk] + 2.0 X[Mortgage]>\n",
      "Subject To\n",
      "   MaxWorkHours[Underwriting] : <gurobi.LinExpr: 3.0 X[Special Risk] + 2.0 X[Mortgage]> <= 2400.0\n",
      "   MaxWorkHours[Administration] : <gurobi.LinExpr: X[Mortgage]> <= 800.0\n",
      "   MaxWorkHours[Claims] : <gurobi.LinExpr: 2.0 X[Special Risk]> <= 1200.0\n"
     ]
    }
   ],
   "source": [
    "## Model display\n",
    "model.display()"
   ]
  },
  {
   "cell_type": "code",
   "execution_count": 8,
   "metadata": {},
   "outputs": [
    {
     "name": "stdout",
     "output_type": "stream",
     "text": [
      "Gurobi Optimizer version 9.1.1 build v9.1.1rc0 (linux64)\n",
      "Thread count: 2 physical cores, 4 logical processors, using up to 4 threads\n",
      "Optimize a model with 3 rows, 2 columns and 4 nonzeros\n",
      "Model fingerprint: 0x90eb4f53\n",
      "Coefficient statistics:\n",
      "  Matrix range     [1e+00, 3e+00]\n",
      "  Objective range  [2e+00, 5e+00]\n",
      "  Bounds range     [0e+00, 0e+00]\n",
      "  RHS range        [8e+02, 2e+03]\n",
      "Presolve removed 2 rows and 0 columns\n",
      "Presolve time: 0.01s\n",
      "Presolved: 1 rows, 2 columns, 2 nonzeros\n",
      "\n",
      "Iteration    Objective       Primal Inf.    Dual Inf.      Time\n",
      "       0    4.0000000e+03   5.000000e+01   0.000000e+00      0s\n",
      "       1    3.6000000e+03   0.000000e+00   0.000000e+00      0s\n",
      "\n",
      "Solved in 1 iterations and 0.01 seconds\n",
      "Optimal objective  3.600000000e+03\n"
     ]
    }
   ],
   "source": [
    "## Optimize model\n",
    "model.optimize()"
   ]
  },
  {
   "cell_type": "markdown",
   "metadata": {},
   "source": [
    "#### Post-Processing: Interpretation"
   ]
  },
  {
   "cell_type": "code",
   "execution_count": 9,
   "metadata": {},
   "outputs": [
    {
     "name": "stdout",
     "output_type": "stream",
     "text": [
      "Sell 600.0 units of product Special Risk\n",
      "Sell 300.0 units of product Mortgage\n",
      "\n",
      "Total profit $3600.0\n",
      "\n",
      "Slack MaxWorkHours[Underwriting]    :     0.00\n",
      "Slack MaxWorkHours[Administration]  :   500.00\n",
      "Slack MaxWorkHours[Claims]          :     0.00\n"
     ]
    }
   ],
   "source": [
    "if model.status == gp.GRB.OPTIMAL:\n",
    "    for p in X.keys():\n",
    "        if X[p].x:\n",
    "            print('Sell {} units of product {}'.format(X[p].x, p))\n",
    "\n",
    "    print(f'\\nTotal profit ${model.ObjVal}\\n')\n",
    "    \n",
    "    for c in model.getConstrs():\n",
    "        print('Slack {:30}: {:>8.2f}'.format(c.ConstrName, c.slack))\n",
    "    \n",
    "else:\n",
    "    print('No solution had found.')"
   ]
  },
  {
   "cell_type": "code",
   "execution_count": null,
   "metadata": {},
   "outputs": [],
   "source": []
  }
 ],
 "metadata": {
  "kernelspec": {
   "display_name": "Python 3",
   "language": "python",
   "name": "python3"
  },
  "language_info": {
   "codemirror_mode": {
    "name": "ipython",
    "version": 3
   },
   "file_extension": ".py",
   "mimetype": "text/x-python",
   "name": "python",
   "nbconvert_exporter": "python",
   "pygments_lexer": "ipython3",
   "version": "3.8.10"
  }
 },
 "nbformat": 4,
 "nbformat_minor": 4
}
