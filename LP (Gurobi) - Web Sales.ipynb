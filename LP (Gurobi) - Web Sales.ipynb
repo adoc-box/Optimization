{
 "cells": [
  {
   "cell_type": "markdown",
   "metadata": {},
   "source": [
    "**Created on**: 2022.09.29\n",
    "\n",
    "**Implemented by**: Anthony Cho\n",
    "\n",
    "**Subject**: Linear programming: Web Mercantile\n",
    "\n",
    "**Reference**: Introduction to operation research (10th Edition) - Hillier and Lieberman.\n",
    "**Problem**: 3.4-9"
   ]
  },
  {
   "cell_type": "markdown",
   "metadata": {},
   "source": [
    "## Problema: \n"
   ]
  },
  {
   "cell_type": "markdown",
   "metadata": {},
   "source": [
    "Web Mercantile sells many household products through an online catalog. The company needs substantial warehouse space for storing its goods. Plans now are being made for leasing warehouse storage space over the next 5 months. \n",
    "\n",
    "Just how much space will be required in each of these months is known. However, since these space requirements are quite different, it may be most economical to lease only the amount needed each month on a month-by-month basis. On the other hand, the additional cost for leasing space for additional months is much less than for the first month, so it may be less expensive to lease the maximum amount needed for the entire 5 months. \n",
    "\n",
    "Another option is the intermediate approach of changing the total amount of space leased (by adding a new lease and/or having an old lease expire) at least once but not every month.\n",
    "\n",
    "The space requirement and the leasing costs for the various leasing periods are as follows:\n",
    "\n",
    "\n",
    "| Month | Required Space (Sq.Ft)    |\n",
    "|-------|---------------------------|\n",
    "| 1     | 30000                     |\n",
    "| 2     | 20000                     |\n",
    "| 3     | 40000                     |\n",
    "| 4     | 10000                     |\n",
    "| 5     | 50000                     |\n",
    "\n",
    "| Leasing period (Months)   | Cost ($) per Sq.Ft. leased     |\n",
    "|---------------------------|--------------------------------|\n",
    "| 1                         | 65                             |\n",
    "| 2                         | 100                            |\n",
    "| 3                         | 135                            |\n",
    "| 4                         | 160                            |\n",
    "| 5                         | 190                            |\n",
    "\n",
    "\n",
    "The objective is to minimize the total leasing cost for meeting the space requirements."
   ]
  },
  {
   "cell_type": "markdown",
   "metadata": {},
   "source": [
    "**Parameters**:\n",
    "\n",
    "* $c_j$: cost per Sq.Ft. leased for a period of $j$ month(s).   ($j=1, \\ldots, 5$)\n",
    "* $r_{i}$: required space (Sq.Ft) in month $i$.   ($i=1, \\ldots, 5$)\n",
    "\n",
    "**Decision variables**:\n",
    "* $X_{i,j}$: amount of space  (Sq.Ft) to lease in month $i$ for a period of $j$ months. ($i=1, \\ldots, 5; \\; j=1, \\ldots, 5-(i+1)$)\n",
    "\n",
    "**Constraints**:\n",
    "* **Requirement**: $\\quad \\sum_{k=1}^{i} \\sum_{j=k}^{5-i+k} X_{i-k+1,j} \\geq r_i, \\quad$ ($i=1, \\ldots, 5$).\n",
    "* **All variables have to be non-negative**: $X_{i,j} \\geq 0, \\quad (i=1, \\ldots, 5; \\; j=1, \\ldots, 5-(i-1))$.\n",
    "\n",
    "**Objective function**:\n",
    "* $\\max_{X} \\sum_{j=1}^{5} c_{j} \\left( \\sum_{i=1}^{5-(j-1)} \\cdot X_{i,j} \\right)$.\n"
   ]
  },
  {
   "cell_type": "markdown",
   "metadata": {},
   "source": [
    "### General model\n",
    "\n",
    "$$\\max_{X} \\sum_{j=1}^{5} c_{j} \\left( \\sum_{i=1}^{5-(j-1)} \\cdot X_{i,j} \\right)$$\n",
    "\n",
    "s.a.\n",
    "\n",
    "$$\\sum_{k=1}^{i} \\sum_{j=k}^{5-i+k} X_{i-k+1,j} \\geq r_i, \\quad (j=1, \\ldots, 5).$$\n",
    "\n",
    "$$X_{i,j} \\geq 0, \\quad (i=1, \\ldots, 5; \\; j=1, \\ldots, 5-(i-1))$$"
   ]
  },
  {
   "cell_type": "markdown",
   "metadata": {},
   "source": [
    "### Particular model\n",
    "\n",
    "\\begin{eqnarray*}\n",
    "    \\min_{X} & & 65 \\left( X_{1,1} +X_{2,1} +X_{3,1} +X_{4,1} +X_{5,1} \\right) \\\\\n",
    "             & & +100 \\left( X_{1,2} +X_{2,2} +X_{3,2} +X_{4,2} \\right) \\\\\n",
    "             & & +135 \\left( X_{1,3} +X_{2,3} +X_{3,3} \\right) \\\\\n",
    "             & & +160 \\left( X_{1,4} +X_{2,4} \\right) \\\\\n",
    "             & & +190 X_{1,5}\n",
    "\\end{eqnarray*}\n",
    "\n",
    "s.a.\n",
    "\n",
    "\\begin{eqnarray*}\n",
    "    X_{1,1} +X_{1,2} +X_{1,3} +X_{1,4} +X_{1,5} &\\geq& 30000 \\\\\n",
    "    X_{1,2} +X_{1,3} +X_{1,4} +X_{1,5} +X_{2,1} +X_{2,2} +X_{2,3} +X_{2,4} &\\geq& 20000 \\\\\n",
    "    X_{1,3} +X_{1,4} +X_{1,5} +X_{2,2} +X_{2,3} +X_{2,4} +X_{3,1} +X_{3,2} +X_{3,3} &\\geq& 40000 \\\\\n",
    "    X_{1,4} +X_{1,5} +X_{2,3} +X_{2,4} +X_{3,2} +X_{3,3} +X_{4,1} +X_{4,2} &\\geq& 10000 \\\\\n",
    "    X_{1,5} +X_{2,4} +X_{3,3} +X_{4,2} +X_{5,1} &\\geq& 50000 \\\\\n",
    "\\end{eqnarray*}\n",
    "\n",
    "\n",
    "\n",
    "$$X_{i,j} \\geq 0, \\qquad (i=1, \\ldots, 5; \\; j=1, \\ldots, 5-(i-1))$$"
   ]
  },
  {
   "cell_type": "code",
   "execution_count": 9,
   "metadata": {},
   "outputs": [],
   "source": [
    "## Library\n",
    "\n",
    "import gurobipy as gp"
   ]
  },
  {
   "cell_type": "markdown",
   "metadata": {},
   "source": [
    "### Parameters"
   ]
  },
  {
   "cell_type": "code",
   "execution_count": 10,
   "metadata": {},
   "outputs": [],
   "source": [
    "## Cost per Sq.Ft. leased for a period of i months\n",
    "costs = [65, 100, 135, 160, 190]\n",
    "\n",
    "## Requirement of space (Sq.Ft) in month i.\n",
    "requirements = [30000, 20000, 40000, 10000, 50000]"
   ]
  },
  {
   "cell_type": "markdown",
   "metadata": {},
   "source": [
    "### LP-Model"
   ]
  },
  {
   "cell_type": "code",
   "execution_count": 11,
   "metadata": {},
   "outputs": [],
   "source": [
    "## Model instance\n",
    "model = gp.Model('WebMercantile')\n",
    "model.modelSense = gp.GRB.MINIMIZE"
   ]
  },
  {
   "cell_type": "code",
   "execution_count": 12,
   "metadata": {},
   "outputs": [],
   "source": [
    "## Decision-variables\n",
    "X = {}\n",
    "for i in range(1,6):\n",
    "    X[i] = {}\n",
    "    for j in range(1,7-i):\n",
    "        X[i][j] = model.addVar(lb=0, vtype=gp.GRB.CONTINUOUS, name=f'X[{i},{j}]')"
   ]
  },
  {
   "cell_type": "code",
   "execution_count": 13,
   "metadata": {},
   "outputs": [],
   "source": [
    "## Constraints\n",
    "\n",
    "## Month 1:\n",
    "lexp = sum([X[1][j] for j in range(1, 6)])\n",
    "model.addConstr(lexp, gp.GRB.GREATER_EQUAL, requirements[0], name='ReqMonth[1]')\n",
    "\n",
    "## Month 2: \n",
    "lexp = X[1][2] +X[1][3] +X[1][4] +X[1][5] +X[2][1] +X[2][2] +X[2][3] +X[2][4]\n",
    "model.addConstr(lexp, gp.GRB.GREATER_EQUAL, requirements[1], name='ReqMonth[2]')\n",
    "\n",
    "## Month 3:\n",
    "lexp = X[1][3] +X[1][4] +X[1][5] +X[2][2] +X[2][3] +X[2][4] +X[3][1] +X[3][2] +X[3][3]\n",
    "model.addConstr(lexp, gp.GRB.GREATER_EQUAL, requirements[2], name='ReqMonth[3]')\n",
    "\n",
    "## Month 4:\n",
    "lexp = X[1][4] +X[1][5] +X[2][3] +X[2][4] +X[3][2] +X[3][3] +X[4][1] +X[4][2]\n",
    "model.addConstr(lexp, gp.GRB.GREATER_EQUAL, requirements[3], name='ReqMonth[4]')\n",
    "\n",
    "## Month 5:\n",
    "lexp = X[1][5] +X[2][4] +X[3][3] +X[4][2] +X[5][1]\n",
    "model.addConstr(lexp, gp.GRB.GREATER_EQUAL, requirements[4], name='ReqMonth[5]')\n",
    "\n",
    "## Model update\n",
    "model.update()"
   ]
  },
  {
   "cell_type": "code",
   "execution_count": 14,
   "metadata": {},
   "outputs": [],
   "source": [
    "## Objective function\n",
    "objFun = 0\n",
    "for j in range(1, 6):\n",
    "    objFun += costs[j-1] * sum([ X[i][j] for i in range(1, 7-j)])\n",
    "\n",
    "## Objective function assignment\n",
    "model.setObjective(objFun)\n",
    "\n",
    "## Model Update\n",
    "model.update()"
   ]
  },
  {
   "cell_type": "code",
   "execution_count": 15,
   "metadata": {},
   "outputs": [
    {
     "name": "stdout",
     "output_type": "stream",
     "text": [
      "Minimize\n",
      "   <gurobi.LinExpr: 65.0 X[1,1] + 100.0 X[1,2] + 135.0 X[1,3] + 160.0 X[1,4] + 190.0 X[1,5] + 65.0 X[2,1] + 100.0 X[2,2] + 135.0 X[2,3] + 160.0 X[2,4] + 65.0 X[3,1] + 100.0 X[3,2] + 135.0 X[3,3] + 65.0 X[4,1] + 100.0 X[4,2] + 65.0 X[5,1]>\n",
      "Subject To\n",
      "   ReqMonth[1] : <gurobi.LinExpr: X[1,1] + X[1,2] + X[1,3] + X[1,4] + X[1,5]> >= 30000.0\n",
      "   ReqMonth[2] : <gurobi.LinExpr: X[1,2] + X[1,3] + X[1,4] + X[1,5] + X[2,1] + X[2,2] + X[2,3] + X[2,4]> >= 20000.0\n",
      "   ReqMonth[3] : <gurobi.LinExpr: X[1,3] + X[1,4] + X[1,5] + X[2,2] + X[2,3] + X[2,4] + X[3,1] + X[3,2] + X[3,3]> >= 40000.0\n",
      "   ReqMonth[4] : <gurobi.LinExpr: X[1,4] + X[1,5] + X[2,3] + X[2,4] + X[3,2] + X[3,3] + X[4,1] + X[4,2]> >= 10000.0\n",
      "   ReqMonth[5] : <gurobi.LinExpr: X[1,5] + X[2,4] + X[3,3] + X[4,2] + X[5,1]> >= 50000.0\n"
     ]
    }
   ],
   "source": [
    "## Display model\n",
    "model.display()"
   ]
  },
  {
   "cell_type": "code",
   "execution_count": 16,
   "metadata": {},
   "outputs": [
    {
     "name": "stdout",
     "output_type": "stream",
     "text": [
      "Gurobi Optimizer version 9.1.1 build v9.1.1rc0 (linux64)\n",
      "Thread count: 2 physical cores, 4 logical processors, using up to 4 threads\n",
      "Optimize a model with 5 rows, 15 columns and 35 nonzeros\n",
      "Model fingerprint: 0xce606626\n",
      "Coefficient statistics:\n",
      "  Matrix range     [1e+00, 1e+00]\n",
      "  Objective range  [6e+01, 2e+02]\n",
      "  Bounds range     [0e+00, 0e+00]\n",
      "  RHS range        [1e+04, 5e+04]\n",
      "Presolve time: 0.01s\n",
      "Presolved: 5 rows, 15 columns, 35 nonzeros\n",
      "\n",
      "Iteration    Objective       Primal Inf.    Dual Inf.      Time\n",
      "       0    0.0000000e+00   1.500000e+05   0.000000e+00      0s\n",
      "       3    7.6500000e+06   0.000000e+00   0.000000e+00      0s\n",
      "\n",
      "Solved in 3 iterations and 0.02 seconds\n",
      "Optimal objective  7.650000000e+06\n"
     ]
    }
   ],
   "source": [
    "## Optimize model\n",
    "model.optimize()"
   ]
  },
  {
   "cell_type": "markdown",
   "metadata": {},
   "source": [
    "#### Post-Processing: Interpretation"
   ]
  },
  {
   "cell_type": "code",
   "execution_count": 17,
   "metadata": {},
   "outputs": [
    {
     "name": "stdout",
     "output_type": "stream",
     "text": [
      "30000.0 (Sq.Ft) will be leased in month 1 for a period of 5 months\n",
      "10000.0 (Sq.Ft) will be leased in month 3 for a period of 1 months\n",
      "20000.0 (Sq.Ft) will be leased in month 5 for a period of 1 months\n",
      "\n",
      "Total cost $7650000.0\n",
      "\n",
      "Slack ReqMonth[1]:       0.00\n",
      "Slack ReqMonth[2]:  -10000.00\n",
      "Slack ReqMonth[3]:       0.00\n",
      "Slack ReqMonth[4]:  -20000.00\n",
      "Slack ReqMonth[5]:       0.00\n"
     ]
    }
   ],
   "source": [
    "if model.status == gp.GRB.OPTIMAL:\n",
    "    for i in X.keys():\n",
    "        for j in X[i].keys():\n",
    "            if X[i][j].x:\n",
    "                print('{} (Sq.Ft) will be leased in month {} for a period of {} months'.format(X[i][j].x, i, j))\n",
    "\n",
    "    print(f'\\nTotal cost ${model.ObjVal}\\n')\n",
    "    \n",
    "    for c in model.getConstrs():\n",
    "        print('Slack {:10}: {:>10.2f}'.format(c.ConstrName, c.slack))\n",
    "    \n",
    "else:\n",
    "    print('No solution was found.')"
   ]
  },
  {
   "cell_type": "code",
   "execution_count": null,
   "metadata": {},
   "outputs": [],
   "source": []
  }
 ],
 "metadata": {
  "kernelspec": {
   "display_name": "Python 3",
   "language": "python",
   "name": "python3"
  },
  "language_info": {
   "codemirror_mode": {
    "name": "ipython",
    "version": 3
   },
   "file_extension": ".py",
   "mimetype": "text/x-python",
   "name": "python",
   "nbconvert_exporter": "python",
   "pygments_lexer": "ipython3",
   "version": "3.8.10"
  }
 },
 "nbformat": 4,
 "nbformat_minor": 4
}
